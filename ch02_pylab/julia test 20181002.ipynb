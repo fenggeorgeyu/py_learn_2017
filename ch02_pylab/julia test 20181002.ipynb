{
 "cells": [
  {
   "cell_type": "code",
   "execution_count": 2,
   "metadata": {},
   "outputs": [
    {
     "ename": "LoadError",
     "evalue": "ArgumentError: Package CUDAdrv not found in current path:\n- Run `Pkg.add(\"CUDAdrv\")` to install the CUDAdrv package.\n",
     "output_type": "error",
     "traceback": [
      "ArgumentError: Package CUDAdrv not found in current path:\n- Run `Pkg.add(\"CUDAdrv\")` to install the CUDAdrv package.\n",
      "",
      "Stacktrace:",
      " [1] require(::Module, ::Symbol) at ./loading.jl:817"
     ]
    }
   ],
   "source": [
    "using CUDAdrv, CUDAnative\n",
    "\n",
    "function kernel_vadd(a, b, c)\n",
    "    i = threadIdx().x\n",
    "    c[i] = a[i] + b[i]\n",
    "    return\n",
    "end\n",
    "\n",
    "# generate some data\n",
    "len = 512\n",
    "a = rand(Int, len)\n",
    "b = rand(Int, len)\n",
    "\n",
    "# allocate & upload to the GPU\n",
    "d_a = CuArray(a)\n",
    "d_b = CuArray(b)\n",
    "d_c = similar(d_a)\n",
    "\n",
    "# execute and fetch results\n",
    "@cuda (1,len) kernel_vadd(d_a, d_b, d_c)\n",
    "c = Array(d_c)"
   ]
  },
  {
   "cell_type": "code",
   "execution_count": null,
   "metadata": {},
   "outputs": [],
   "source": []
  }
 ],
 "metadata": {
  "kernelspec": {
   "display_name": "Julia 1.0.0 [julia/1.0.0]",
   "language": "julia",
   "name": "sys_julia100"
  },
  "language_info": {
   "file_extension": ".jl",
   "mimetype": "application/julia",
   "name": "julia",
   "version": "1.0.0"
  }
 },
 "nbformat": 4,
 "nbformat_minor": 2
}
